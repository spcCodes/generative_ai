{
 "cells": [
  {
   "cell_type": "markdown",
   "id": "5162ff41-db96-42ba-8dcd-be61433a37d0",
   "metadata": {},
   "source": [
    "# Model , Prompts and Parsers"
   ]
  },
  {
   "cell_type": "raw",
   "id": "ee87efbd-2c60-4964-87bd-1e76ef429e59",
   "metadata": {},
   "source": [
    "# Models - underlying LLM models\n",
    "# Prompts - style of creating inputs to pass onto the model\n",
    "# Parsers - Taking the output of these models and parsing it into more structured format"
   ]
  },
  {
   "cell_type": "code",
   "execution_count": 6,
   "id": "5ab44c1a-596d-49ba-a2bd-c79afd1bae53",
   "metadata": {},
   "outputs": [],
   "source": [
    "# IMPORT OPENAI API KEY\n",
    "import os\n",
    "import openai\n",
    "from openai import OpenAI\n",
    "\n",
    "from dotenv import load_dotenv, find_dotenv\n",
    "_ = load_dotenv(find_dotenv()) # read local .env file\n",
    "openai.api_key = os.environ['OPENAI_API_KEY']"
   ]
  },
  {
   "cell_type": "code",
   "execution_count": 2,
   "id": "49a084e5-72d2-470d-b6b0-864d9ed1d562",
   "metadata": {},
   "outputs": [
    {
     "data": {
      "text/plain": [
       "datetime.date(2023, 12, 15)"
      ]
     },
     "execution_count": 2,
     "metadata": {},
     "output_type": "execute_result"
    }
   ],
   "source": [
    "# account for deprecation of LLM model\n",
    "import datetime\n",
    "# Get the current date\n",
    "current_date = datetime.datetime.now().date()\n",
    "current_date"
   ]
  },
  {
   "cell_type": "code",
   "execution_count": 3,
   "id": "c54b4519-fdc4-496e-81e1-9cc8d0ae6377",
   "metadata": {},
   "outputs": [],
   "source": [
    "# Define the date after which the model should be set to \"gpt-3.5-turbo\"\n",
    "target_date = datetime.date(2024, 6, 12)\n",
    "\n",
    "# Set the model variable based on the current date\n",
    "if current_date > target_date:\n",
    "    llm_model = \"gpt-3.5-turbo\"\n",
    "else:\n",
    "    llm_model = \"gpt-3.5-turbo-0301\""
   ]
  },
  {
   "cell_type": "markdown",
   "id": "adca4c45-04da-4620-a005-728f854dcc28",
   "metadata": {},
   "source": [
    "## Lets start with direct calls to openai api"
   ]
  },
  {
   "cell_type": "code",
   "execution_count": 16,
   "id": "e418e3b4-a657-44ac-a959-6950a0132ed6",
   "metadata": {},
   "outputs": [],
   "source": [
    "llm_model = \"gpt-3.5-turbo\"\n",
    "client = OpenAI(api_key=os.environ.get(\"OPENAI_API_KEY\"))\n",
    "\n",
    "def get_completion(prompt, model=llm_model):\n",
    "    messages = [{\"role\": \"user\", \"content\": prompt}]\n",
    "    response = client.chat.completions.create(\n",
    "        messages = messages ,\n",
    "        model = model,\n",
    "        temperature = 0\n",
    "    )\n",
    "    return response.choices[0].message.content"
   ]
  },
  {
   "cell_type": "code",
   "execution_count": 17,
   "id": "429d7182-159c-4569-8b18-55b5f4ac4840",
   "metadata": {},
   "outputs": [
    {
     "data": {
      "text/plain": [
       "\"Certainly! Here's a plan for fat loss:\\n\\n1. Set realistic goals: Determine how much weight you want to lose and set a realistic timeline. Aim for a gradual and sustainable weight loss of 1-2 pounds per week.\\n\\n2. Create a calorie deficit: To lose fat, you need to consume fewer calories than you burn. Calculate your daily calorie needs using an online calculator and aim to create a deficit of 500-1000 calories per day.\\n\\n3. Eat a balanced diet: Focus on consuming nutrient-dense foods that are low in calories but high in vitamins, minerals, and fiber. Include plenty of fruits, vegetables, lean proteins, whole grains, and healthy fats in your meals.\\n\\n4. Portion control: Be mindful of portion sizes to avoid overeating. Use smaller plates and bowls, and listen to your body's hunger and fullness cues.\\n\\n5. Stay hydrated: Drink plenty of water throughout the day. Sometimes, thirst can be mistaken for hunger, leading to unnecessary snacking.\\n\\n6. Limit processed foods and added sugars: Minimize your intake of processed foods, sugary drinks, and snacks. These are often high in calories and low in nutritional value.\\n\\n7. Regular exercise: Incorporate both cardiovascular exercises (such as running, cycling, or swimming) and strength training into your routine. Aim for at least 150 minutes of moderate-intensity aerobic activity or 75 minutes of vigorous-intensity activity per week, along with two or more days of strength training.\\n\\n8. Increase daily activity: Find ways to be more active throughout the day. Take the stairs instead of the elevator, walk or bike instead of driving short distances, and incorporate more movement into your daily routine.\\n\\n9. Get enough sleep: Aim for 7-9 hours of quality sleep each night. Lack of sleep can disrupt hormones related to hunger and satiety, leading to increased cravings and overeating.\\n\\n10. Monitor progress: Keep track of your food intake, exercise, and progress. Use a food diary or a mobile app to log your meals and workouts. Regularly assess your progress and make adjustments as needed.\\n\\nRemember, it's important to consult with a healthcare professional or a registered dietitian before starting any weight loss plan to ensure it aligns with your specific needs and health conditions.\""
      ]
     },
     "execution_count": 17,
     "metadata": {},
     "output_type": "execute_result"
    }
   ],
   "source": [
    "get_completion(\"Can you create a plan for fat loss\")"
   ]
  },
  {
   "cell_type": "code",
   "execution_count": 18,
   "id": "72747634-3e62-465a-a933-4a1cf0830bd8",
   "metadata": {},
   "outputs": [],
   "source": [
    "customer_email = \"\"\"\n",
    "Arrr, I be fuming that me blender lid \\\n",
    "flew off and splattered me kitchen walls \\\n",
    "with smoothie! And to make matters worse,\\\n",
    "the warranty don't cover the cost of \\\n",
    "cleaning up me kitchen. I need yer help \\\n",
    "right now, matey!\n",
    "\"\"\""
   ]
  },
  {
   "cell_type": "code",
   "execution_count": 29,
   "id": "316b05d6-4d04-43c2-aa2b-c5bc28356c44",
   "metadata": {},
   "outputs": [],
   "source": [
    "style = \"\"\"Hindi \\\n",
    "in a calm and respectful tone\n",
    "\"\"\""
   ]
  },
  {
   "cell_type": "code",
   "execution_count": 30,
   "id": "7279509f-6753-4b9c-aeae-d7dd810cd8dc",
   "metadata": {},
   "outputs": [],
   "source": [
    "prompt = f\"\"\"Translate the text \\\n",
    "that is delimited by triple backticks \n",
    "into a style that is {style}.\n",
    "text: ```{customer_email}```\n",
    "\"\"\""
   ]
  },
  {
   "cell_type": "code",
   "execution_count": 31,
   "id": "546f6bbc-82c7-4946-9a8f-bac7d67ea8d6",
   "metadata": {},
   "outputs": [
    {
     "data": {
      "text/plain": [
       "\"Translate the text that is delimited by triple backticks \\ninto a style that is Hindi in a calm and respectful tone\\n.\\ntext: ```\\nArrr, I be fuming that me blender lid flew off and splattered me kitchen walls with smoothie! And to make matters worse,the warranty don't cover the cost of cleaning up me kitchen. I need yer help right now, matey!\\n```\\n\""
      ]
     },
     "execution_count": 31,
     "metadata": {},
     "output_type": "execute_result"
    }
   ],
   "source": [
    "prompt"
   ]
  },
  {
   "cell_type": "code",
   "execution_count": 32,
   "id": "1f8e7b0f-904d-4293-92d3-9bfc23818c07",
   "metadata": {},
   "outputs": [],
   "source": [
    "response = get_completion(prompt)"
   ]
  },
  {
   "cell_type": "code",
   "execution_count": 33,
   "id": "07300694-eac8-437c-8e89-80bae65969fc",
   "metadata": {},
   "outputs": [
    {
     "data": {
      "text/plain": [
       "'```\\nअरे, मुझे बहुत गुस्सा आ रहा है कि मेरे ब्लेंडर का ढक्कन उड़ गया और मेरी रसीले द्रव से मेरी रसोई की दीवारों को छीट गया! और बुरी बात यह है कि वारंटी मेरी रसोई की सफाई के खर्च को कवर नहीं करती है। मुझे तुम्हारी सहायता अभी चाहिए, साथी!\\n```'"
      ]
     },
     "execution_count": 33,
     "metadata": {},
     "output_type": "execute_result"
    }
   ],
   "source": [
    "response"
   ]
  },
  {
   "cell_type": "markdown",
   "id": "e2000b00-8cfa-4edc-b475-7c74c02dd4e6",
   "metadata": {},
   "source": [
    "# Lets do the same thing using langchain"
   ]
  },
  {
   "cell_type": "code",
   "execution_count": null,
   "id": "67517e79-c6ec-4172-b024-40e1f6d70f50",
   "metadata": {},
   "outputs": [],
   "source": []
  },
  {
   "cell_type": "code",
   "execution_count": null,
   "id": "d6c95c9d-4c67-4b12-9229-273151e5949c",
   "metadata": {},
   "outputs": [],
   "source": []
  },
  {
   "cell_type": "code",
   "execution_count": null,
   "id": "ac06f26b-cf0b-4121-8a43-6d268cd91292",
   "metadata": {},
   "outputs": [],
   "source": []
  },
  {
   "cell_type": "code",
   "execution_count": null,
   "id": "e60491ce-594d-43eb-ab54-c1e57a1e9747",
   "metadata": {},
   "outputs": [],
   "source": []
  },
  {
   "cell_type": "code",
   "execution_count": null,
   "id": "cff70b92-a100-4044-80ba-df5ebd142991",
   "metadata": {},
   "outputs": [],
   "source": []
  },
  {
   "cell_type": "code",
   "execution_count": null,
   "id": "139cc3b4-cd6d-4c76-9ac8-f85a02aab820",
   "metadata": {},
   "outputs": [],
   "source": []
  },
  {
   "cell_type": "code",
   "execution_count": null,
   "id": "8bcdcc03-29fc-40fd-a363-07cc3edfc17e",
   "metadata": {},
   "outputs": [],
   "source": []
  },
  {
   "cell_type": "code",
   "execution_count": null,
   "id": "7d468e46-1f95-4243-9e43-e7bda4c79b74",
   "metadata": {},
   "outputs": [],
   "source": []
  },
  {
   "cell_type": "code",
   "execution_count": null,
   "id": "fcb2ae3a-f67c-449a-b640-d163958b2e21",
   "metadata": {},
   "outputs": [],
   "source": []
  },
  {
   "cell_type": "code",
   "execution_count": null,
   "id": "afd777b1-6423-4d69-b9d0-95eab2645377",
   "metadata": {},
   "outputs": [],
   "source": []
  },
  {
   "cell_type": "code",
   "execution_count": null,
   "id": "26b81fa3-c2d8-44b6-81ed-ff59094a371d",
   "metadata": {},
   "outputs": [],
   "source": []
  },
  {
   "cell_type": "code",
   "execution_count": null,
   "id": "78681b94-f816-4402-a46d-78d01f1b4e61",
   "metadata": {},
   "outputs": [],
   "source": []
  },
  {
   "cell_type": "code",
   "execution_count": null,
   "id": "8713c761-f5cb-4def-a793-1d2817c05e37",
   "metadata": {},
   "outputs": [],
   "source": []
  },
  {
   "cell_type": "code",
   "execution_count": null,
   "id": "d102d935-b6da-4d10-a62b-c9dba0e97309",
   "metadata": {},
   "outputs": [],
   "source": []
  },
  {
   "cell_type": "code",
   "execution_count": null,
   "id": "e8bd6431-282e-4dd7-8802-ed46193c7c56",
   "metadata": {},
   "outputs": [],
   "source": []
  },
  {
   "cell_type": "code",
   "execution_count": null,
   "id": "32bfbdbf-d848-49b9-86d8-7377ea83c080",
   "metadata": {},
   "outputs": [],
   "source": []
  },
  {
   "cell_type": "code",
   "execution_count": null,
   "id": "4794a731-0ac2-437e-b361-4d597a74fafc",
   "metadata": {},
   "outputs": [],
   "source": []
  },
  {
   "cell_type": "code",
   "execution_count": null,
   "id": "05a8df8d-b5e4-46d3-a522-2432f5874553",
   "metadata": {},
   "outputs": [],
   "source": []
  },
  {
   "cell_type": "code",
   "execution_count": null,
   "id": "1f1277da-b267-4146-9d3b-54079caf3c6e",
   "metadata": {},
   "outputs": [],
   "source": []
  },
  {
   "cell_type": "code",
   "execution_count": null,
   "id": "b30d9116-8a0b-4cd5-af39-86ab70d19206",
   "metadata": {},
   "outputs": [],
   "source": []
  },
  {
   "cell_type": "code",
   "execution_count": null,
   "id": "867eb9ae-4f5b-4254-a677-69ff9a2716c5",
   "metadata": {},
   "outputs": [],
   "source": []
  },
  {
   "cell_type": "code",
   "execution_count": null,
   "id": "e1552f23-cd91-46a3-a0e9-6d000235f341",
   "metadata": {},
   "outputs": [],
   "source": []
  },
  {
   "cell_type": "code",
   "execution_count": null,
   "id": "135d04a5-b33a-43f5-842c-0bca8976a891",
   "metadata": {},
   "outputs": [],
   "source": []
  },
  {
   "cell_type": "code",
   "execution_count": null,
   "id": "7f532fd4-ee22-4ef4-9f56-18be7af848b3",
   "metadata": {},
   "outputs": [],
   "source": []
  },
  {
   "cell_type": "code",
   "execution_count": null,
   "id": "83c2cb20-b74e-44af-bfea-9f005ed67fde",
   "metadata": {},
   "outputs": [],
   "source": []
  },
  {
   "cell_type": "code",
   "execution_count": null,
   "id": "d702f16c-5d6f-45b4-a156-4ad049efd809",
   "metadata": {},
   "outputs": [],
   "source": []
  },
  {
   "cell_type": "code",
   "execution_count": null,
   "id": "0a021e61-b562-4389-b48d-0149169347b0",
   "metadata": {},
   "outputs": [],
   "source": []
  },
  {
   "cell_type": "code",
   "execution_count": null,
   "id": "1a2f8ff8-aacf-46ad-a57d-2a8fb86ff5fe",
   "metadata": {},
   "outputs": [],
   "source": []
  },
  {
   "cell_type": "code",
   "execution_count": null,
   "id": "b13e2fd6-f568-473e-a51c-8a9930abc774",
   "metadata": {},
   "outputs": [],
   "source": []
  },
  {
   "cell_type": "code",
   "execution_count": null,
   "id": "b66c64dc-ad8f-41d4-8b12-90680aefb2e8",
   "metadata": {},
   "outputs": [],
   "source": []
  },
  {
   "cell_type": "code",
   "execution_count": null,
   "id": "f7435ffc-e0a9-4f62-bb50-14a9fead283d",
   "metadata": {},
   "outputs": [],
   "source": []
  },
  {
   "cell_type": "code",
   "execution_count": null,
   "id": "981c05be-126a-4a54-a167-ef85f19d7903",
   "metadata": {},
   "outputs": [],
   "source": []
  },
  {
   "cell_type": "code",
   "execution_count": null,
   "id": "09060f1d-4da5-4aa0-a093-9a0d83cd74e0",
   "metadata": {},
   "outputs": [],
   "source": []
  },
  {
   "cell_type": "code",
   "execution_count": null,
   "id": "719e3713-4fb2-4b1d-ae16-d2cbcdfaec24",
   "metadata": {},
   "outputs": [],
   "source": []
  },
  {
   "cell_type": "code",
   "execution_count": null,
   "id": "4a494d1c-ceae-410b-bba1-1b9ba64f486c",
   "metadata": {},
   "outputs": [],
   "source": []
  },
  {
   "cell_type": "code",
   "execution_count": null,
   "id": "d611e256-fe4c-4de9-a697-a35dda56c9cb",
   "metadata": {},
   "outputs": [],
   "source": []
  },
  {
   "cell_type": "code",
   "execution_count": null,
   "id": "765cb202-a5df-4026-a8f0-37d377216160",
   "metadata": {},
   "outputs": [],
   "source": []
  },
  {
   "cell_type": "code",
   "execution_count": null,
   "id": "5ce8c5ac-66ef-49fb-996e-3c1810d135f4",
   "metadata": {},
   "outputs": [],
   "source": []
  },
  {
   "cell_type": "code",
   "execution_count": null,
   "id": "6ffae388-0cd5-4823-ba2a-1da10786b957",
   "metadata": {},
   "outputs": [],
   "source": []
  },
  {
   "cell_type": "code",
   "execution_count": null,
   "id": "670488f4-6e6e-4a1a-94ef-b48bb801b8cd",
   "metadata": {},
   "outputs": [],
   "source": []
  },
  {
   "cell_type": "code",
   "execution_count": null,
   "id": "b3e3e363-eb07-4981-ae1f-4ae08c545200",
   "metadata": {},
   "outputs": [],
   "source": []
  },
  {
   "cell_type": "code",
   "execution_count": null,
   "id": "f3aae28d-0fe7-453d-9979-e04e9a2e85bd",
   "metadata": {},
   "outputs": [],
   "source": []
  },
  {
   "cell_type": "code",
   "execution_count": null,
   "id": "6b30f2da-9901-4a60-acc3-c913b3f54a48",
   "metadata": {},
   "outputs": [],
   "source": []
  },
  {
   "cell_type": "code",
   "execution_count": null,
   "id": "ffdedf02-cedf-4d26-b689-8bb55976ae65",
   "metadata": {},
   "outputs": [],
   "source": []
  },
  {
   "cell_type": "code",
   "execution_count": null,
   "id": "553742ca-3585-4929-a4e0-e5a49929be18",
   "metadata": {},
   "outputs": [],
   "source": []
  },
  {
   "cell_type": "code",
   "execution_count": null,
   "id": "9836a736-0124-40be-a92b-c3a03491e92a",
   "metadata": {},
   "outputs": [],
   "source": []
  },
  {
   "cell_type": "code",
   "execution_count": null,
   "id": "455bcb5c-85a7-4d6e-8e29-d17f6690b898",
   "metadata": {},
   "outputs": [],
   "source": []
  },
  {
   "cell_type": "code",
   "execution_count": null,
   "id": "f34adfc3-4995-4cd8-a392-3beb84002f37",
   "metadata": {},
   "outputs": [],
   "source": []
  },
  {
   "cell_type": "code",
   "execution_count": null,
   "id": "8a73f3d1-065a-4c61-882c-805651c3c522",
   "metadata": {},
   "outputs": [],
   "source": []
  },
  {
   "cell_type": "code",
   "execution_count": null,
   "id": "f9679531-1724-41ac-a203-62f3addd1a87",
   "metadata": {},
   "outputs": [],
   "source": []
  },
  {
   "cell_type": "code",
   "execution_count": null,
   "id": "9fd92f13-62a4-4d29-b228-5d85d04c936b",
   "metadata": {},
   "outputs": [],
   "source": []
  },
  {
   "cell_type": "code",
   "execution_count": null,
   "id": "30d441b0-8af2-4831-b95a-b5f794e6c16e",
   "metadata": {},
   "outputs": [],
   "source": []
  }
 ],
 "metadata": {
  "kernelspec": {
   "display_name": "Python 3 (ipykernel)",
   "language": "python",
   "name": "python3"
  },
  "language_info": {
   "codemirror_mode": {
    "name": "ipython",
    "version": 3
   },
   "file_extension": ".py",
   "mimetype": "text/x-python",
   "name": "python",
   "nbconvert_exporter": "python",
   "pygments_lexer": "ipython3",
   "version": "3.10.13"
  }
 },
 "nbformat": 4,
 "nbformat_minor": 5
}
